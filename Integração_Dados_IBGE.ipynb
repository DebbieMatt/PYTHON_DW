{
  "nbformat": 4,
  "nbformat_minor": 0,
  "metadata": {
    "colab": {
      "provenance": [],
      "authorship_tag": "ABX9TyMYuy35eweBLw/fCkF0FRF3",
      "include_colab_link": true
    },
    "kernelspec": {
      "name": "python3",
      "display_name": "Python 3"
    },
    "language_info": {
      "name": "python"
    }
  },
  "cells": [
    {
      "cell_type": "markdown",
      "metadata": {
        "id": "view-in-github",
        "colab_type": "text"
      },
      "source": [
        "<a href=\"https://colab.research.google.com/github/DebbieMatt/PYTHON_DW/blob/main/Integra%C3%A7%C3%A3o_Dados_IBGE.ipynb\" target=\"_parent\"><img src=\"https://colab.research.google.com/assets/colab-badge.svg\" alt=\"Open In Colab\"/></a>"
      ]
    },
    {
      "cell_type": "code",
      "source": [
        "import pandas as pd\n",
        "from datetime import datetime\n",
        "from pathlib import Path\n",
        "import sqlite3 as sql\n"
      ],
      "metadata": {
        "id": "rFin8Q64GpkJ"
      },
      "execution_count": null,
      "outputs": []
    },
    {
      "cell_type": "markdown",
      "source": [
        "# COLETA DE DADOS DO SITE IBGE"
      ],
      "metadata": {
        "id": "gHgu13z-G1IU"
      }
    },
    {
      "cell_type": "code",
      "source": [
        "# Coletando dados do IBGE\n",
        "\n",
        "url = 'https://www.ibge.gov.br/explica/codigos-dos-municipios.php#MT'\n",
        "\n",
        "DadosIBGE = pd.DataFrame (pd.read_html(url, match= \"Municípios de Mato Grosso\")[0])\n"
      ],
      "metadata": {
        "id": "sJMORD4QG578"
      },
      "execution_count": null,
      "outputs": []
    },
    {
      "cell_type": "code",
      "source": [
        "# RENOMEAR COLUNA DO DF\n",
        "\n",
        "DadosIBGE = DadosIBGE.rename(columns={'Municípios de Mato Grosso': 'Munic', 'Códigos': 'Cod'} )\n",
        "\n",
        "# ALTERANDO NOME DO INDEX\n",
        "DadosIBGE.index.name = 'ID'"
      ],
      "metadata": {
        "id": "PW64tHKMHQLT"
      },
      "execution_count": null,
      "outputs": []
    },
    {
      "cell_type": "code",
      "source": [
        "# ALTERANDO INDEX PARA COMEÇAR DO 1\n",
        "DadosIBGE.index = DadosIBGE.index + 1"
      ],
      "metadata": {
        "id": "S8STS80rJChx"
      },
      "execution_count": null,
      "outputs": []
    },
    {
      "cell_type": "code",
      "source": [
        "# ADICIONAR UMA COLUNA DE DATA E HORA DE CARGA\n",
        "DadosIBGE['dataCarga'] = datetime.today().strftime('%d/%m/%y %H:%M')\n",
        "\n",
        "# DadosIBGE"
      ],
      "metadata": {
        "id": "vAwvGWt3H5wQ"
      },
      "execution_count": null,
      "outputs": []
    },
    {
      "cell_type": "markdown",
      "source": [
        "# CRIANDO O BANCO DE DADOS ODS"
      ],
      "metadata": {
        "id": "pP5Zf6XRJJxl"
      }
    },
    {
      "cell_type": "code",
      "source": [
        "# Manipulando o sistema de arquivos\n",
        "endereco = Path('/content/drive/MyDrive/Colab Notebooks')\n",
        "\n",
        "BDODS = endereco / \"ODS.db\"\n",
        "BDDW = endereco / \"DW.db\"\n",
        "\n"
      ],
      "metadata": {
        "id": "Dl6GvsIxJJO8"
      },
      "execution_count": 72,
      "outputs": []
    },
    {
      "cell_type": "code",
      "source": [
        "if endereco.exists():\n",
        "    if(BDODS.exists() and BDDW.exists()):\n",
        "        print('Banco de dados já existem !')\n",
        "    else:\n",
        "        BDODS.touch()\n",
        "        BDDW.touch()\n",
        "        print('Bancos de dados criados!')\n",
        "else:\n",
        "    print('Endereço não existe! Favor, verificar!')\n"
      ],
      "metadata": {
        "colab": {
          "base_uri": "https://localhost:8080/"
        },
        "id": "ziVI_qozKBEu",
        "outputId": "713d77f4-80dd-4b0e-b790-8f5f714776f4"
      },
      "execution_count": 73,
      "outputs": [
        {
          "output_type": "stream",
          "name": "stdout",
          "text": [
            "Banco de dados já existem !\n"
          ]
        }
      ]
    },
    {
      "cell_type": "markdown",
      "source": [
        "# MANIPULANDO OS BANCO DE DADOS CRIADOS\n"
      ],
      "metadata": {
        "id": "pDLPNsQw29r0"
      }
    },
    {
      "cell_type": "code",
      "source": [
        "# Conectar no BDODS\n",
        "conexaoODS = sql.connect(BDODS)\n",
        "\n",
        "# Criar a tabela tbLogMunic e carregar os dados do DF DadosIBGE\n",
        "DadosIBGE.to_sql('tabelaLogMunic', conexaoODS, if_exists=\"append\")\n",
        "\n",
        "#Confirmar a transação\n",
        "conexaoODS.commit()\n",
        "\n",
        "#Fechar a conexão\n",
        "conexaoODS.close()\n",
        "\n",
        "print('Carga do BDODS concluída!')"
      ],
      "metadata": {
        "colab": {
          "base_uri": "https://localhost:8080/"
        },
        "id": "_pBQfo8421LW",
        "outputId": "7c0543de-f840-463b-9c1d-2589b3c08126"
      },
      "execution_count": 80,
      "outputs": [
        {
          "output_type": "stream",
          "name": "stdout",
          "text": [
            "Carga do BDODS concluída!\n"
          ]
        }
      ]
    },
    {
      "cell_type": "code",
      "source": [
        "#Conectar no BDDW\n",
        "conexaoDW = sql.connect(BDDW)\n",
        "\n",
        "#Selecionar somente as colunas para criação da dMunicipio\n",
        "DadosIBGE = DadosIBGE[['Munic','Cod']]\n",
        "\n",
        "#Criar a tabela dMunicipio e carregar os dados do DF DadosIBGE\n",
        "DadosIBGE.to_sql('dMunicipio',conexaoDW,if_exists=\"replace\")\n"
      ],
      "metadata": {
        "colab": {
          "base_uri": "https://localhost:8080/"
        },
        "id": "Zgx2O7ou3iWN",
        "outputId": "c58d1b37-2fa4-43ac-937a-7d909e93acac"
      },
      "execution_count": 86,
      "outputs": [
        {
          "output_type": "execute_result",
          "data": {
            "text/plain": [
              "141"
            ]
          },
          "metadata": {},
          "execution_count": 86
        }
      ]
    }
  ]
}
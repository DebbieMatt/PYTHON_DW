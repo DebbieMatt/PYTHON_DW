{
  "nbformat": 4,
  "nbformat_minor": 0,
  "metadata": {
    "colab": {
      "provenance": [],
      "mount_file_id": "1nOZ0gJFsOtAQbEOuwjYkYrQ7VDgYBBxo",
      "authorship_tag": "ABX9TyNj72/+5kFOZ+zT32R06fTG",
      "include_colab_link": true
    },
    "kernelspec": {
      "name": "python3",
      "display_name": "Python 3"
    },
    "language_info": {
      "name": "python"
    }
  },
  "cells": [
    {
      "cell_type": "markdown",
      "metadata": {
        "id": "view-in-github",
        "colab_type": "text"
      },
      "source": [
        "<a href=\"https://colab.research.google.com/github/DebbieMatt/PYTHON_DW/blob/main/Integra%C3%A7%C3%A3o_Dados_IBGE.ipynb\" target=\"_parent\"><img src=\"https://colab.research.google.com/assets/colab-badge.svg\" alt=\"Open In Colab\"/></a>"
      ]
    },
    {
      "cell_type": "code",
      "source": [
        "import pandas as pd\n",
        "from datetime import datetime\n",
        "from pathlib import Path\n",
        "import sqlite3 as sql\n"
      ],
      "metadata": {
        "id": "rFin8Q64GpkJ"
      },
      "execution_count": 21,
      "outputs": []
    },
    {
      "cell_type": "code",
      "source": [
        "dtCarga = datetime.today().strftime('%d/%m/%Y %H:%M')"
      ],
      "metadata": {
        "id": "8q0UYn26A_en"
      },
      "execution_count": 40,
      "outputs": []
    },
    {
      "cell_type": "markdown",
      "source": [
        "# COLETA DE DADOS DO SITE IBGE"
      ],
      "metadata": {
        "id": "gHgu13z-G1IU"
      }
    },
    {
      "cell_type": "code",
      "source": [
        "# Coletando dados do IBGE\n",
        "\n",
        "url = 'https://www.ibge.gov.br/explica/codigos-dos-municipios.php#MT'\n",
        "\n",
        "DadosIBGE = pd.DataFrame (pd.read_html(url, match= \"Municípios de Mato Grosso\")[0])\n"
      ],
      "metadata": {
        "id": "sJMORD4QG578"
      },
      "execution_count": 22,
      "outputs": []
    },
    {
      "cell_type": "code",
      "source": [
        "# RENOMEAR COLUNA DO DF\n",
        "\n",
        "DadosIBGE = DadosIBGE.rename(columns={'Municípios de Mato Grosso': 'Munic', 'Códigos': 'Cod'} )\n",
        "\n",
        "# ALTERANDO NOME DO INDEX\n",
        "DadosIBGE.index.name = 'ID'"
      ],
      "metadata": {
        "id": "PW64tHKMHQLT"
      },
      "execution_count": 23,
      "outputs": []
    },
    {
      "cell_type": "code",
      "source": [
        "# ALTERANDO INDEX PARA COMEÇAR DO 1\n",
        "DadosIBGE.index = DadosIBGE.index + 1"
      ],
      "metadata": {
        "id": "S8STS80rJChx"
      },
      "execution_count": 24,
      "outputs": []
    },
    {
      "cell_type": "code",
      "source": [
        "# ADICIONAR UMA COLUNA DE DATA E HORA DE CARGA\n",
        "DadosIBGE['dataCarga'] = dtCarga\n",
        "\n",
        "# DadosIBGE"
      ],
      "metadata": {
        "id": "vAwvGWt3H5wQ"
      },
      "execution_count": 41,
      "outputs": []
    },
    {
      "cell_type": "markdown",
      "source": [
        "# CRIANDO O BANCO DE DADOS ODS"
      ],
      "metadata": {
        "id": "pP5Zf6XRJJxl"
      }
    },
    {
      "cell_type": "code",
      "source": [
        "# Manipulando o sistema de arquivos\n",
        "endereco = Path('/content/drive/MyDrive/Colab Notebooks')\n",
        "\n",
        "BDODS = endereco / \"ODS.db\"\n",
        "BDDW = endereco / \"DW.db\"\n",
        "\n"
      ],
      "metadata": {
        "id": "Dl6GvsIxJJO8"
      },
      "execution_count": 26,
      "outputs": []
    },
    {
      "cell_type": "code",
      "source": [
        "if endereco.exists():\n",
        "    if(BDODS.exists() and BDDW.exists()):\n",
        "        print('Banco de dados já existem !')\n",
        "    else:\n",
        "        BDODS.touch()\n",
        "        BDDW.touch()\n",
        "        print('Bancos de dados criados!')\n",
        "else:\n",
        "    print('Endereço não existe! Favor, verificar!')\n"
      ],
      "metadata": {
        "colab": {
          "base_uri": "https://localhost:8080/"
        },
        "id": "ziVI_qozKBEu",
        "outputId": "83732d3b-8950-434b-8071-8dc931a0108a"
      },
      "execution_count": 27,
      "outputs": [
        {
          "output_type": "stream",
          "name": "stdout",
          "text": [
            "Banco de dados já existem !\n"
          ]
        }
      ]
    },
    {
      "cell_type": "markdown",
      "source": [
        "# MANIPULANDO OS BANCO DE DADOS CRIADOS\n"
      ],
      "metadata": {
        "id": "pDLPNsQw29r0"
      }
    },
    {
      "cell_type": "code",
      "source": [
        "# Conectar no BDODS\n",
        "conexaoODS = sql.connect(BDODS)\n",
        "\n",
        "# Criar a tabela tbLogMunic e carregar os dados do DF DadosIBGE\n",
        "DadosIBGE.to_sql('tabelaLogMunic', conexaoODS, if_exists=\"append\")\n",
        "\n",
        "#Confirmar a transação\n",
        "conexaoODS.commit()\n",
        "\n",
        "#Fechar a conexão\n",
        "conexaoODS.close()\n",
        "\n",
        "print('Carga do BDODS concluída!')"
      ],
      "metadata": {
        "colab": {
          "base_uri": "https://localhost:8080/"
        },
        "id": "_pBQfo8421LW",
        "outputId": "81a1d08e-e0a1-4644-d1f1-16fcf4141e75"
      },
      "execution_count": 28,
      "outputs": [
        {
          "output_type": "stream",
          "name": "stdout",
          "text": [
            "Carga do BDODS concluída!\n"
          ]
        }
      ]
    },
    {
      "cell_type": "code",
      "source": [
        "#Conectar no BDDW\n",
        "conexaoDW = sql.connect(BDDW)\n",
        "\n",
        "#Selecionar somente as colunas para criação da dMunicipio\n",
        "DadosIBGE = DadosIBGE[['Munic','Cod']]\n",
        "\n",
        "#Criar a tabela dMunicipio e carregar os dados do DF DadosIBGE\n",
        "DadosIBGE.to_sql('dMunicipio',conexaoDW,if_exists=\"replace\")\n",
        "\n",
        "#Confirmar a transação\n",
        "conexaoDW.commit()\n",
        "\n",
        "#Fechar a conexão\n",
        "conexaoDW.close()\n",
        "\n",
        "print('Carga do DW concluída!')\n"
      ],
      "metadata": {
        "colab": {
          "base_uri": "https://localhost:8080/"
        },
        "id": "Zgx2O7ou3iWN",
        "outputId": "fc7e47fe-a328-43d4-b5c1-d67956ee19c0"
      },
      "execution_count": 29,
      "outputs": [
        {
          "output_type": "stream",
          "name": "stdout",
          "text": [
            "Carga do DW concluída!\n"
          ]
        }
      ]
    },
    {
      "cell_type": "markdown",
      "source": [
        "\n",
        "# CARGA DOS DADOS DO PIB DE SETORES DE MATO GROSSO"
      ],
      "metadata": {
        "id": "Q_4_5a6C644U"
      }
    },
    {
      "cell_type": "code",
      "source": [
        "#Definir o endereço físico do arquivo CSV\n",
        "LocalArquivo = \"/content/drive/MyDrive/Colab Notebooks/\""
      ],
      "metadata": {
        "id": "nUVtdqM96bmo"
      },
      "execution_count": 34,
      "outputs": []
    },
    {
      "cell_type": "code",
      "source": [
        "#Criar Data Frame com os dados dos PIB - SETOR - MT\n",
        "tbLogPIBsetor = pd.DataFrame(pd.read_csv(LocalArquivo + \"PIB-SETOR-MT.csv\"))"
      ],
      "metadata": {
        "id": "q0zfH6mz7vpK"
      },
      "execution_count": 39,
      "outputs": []
    },
    {
      "cell_type": "code",
      "source": [
        "#Criando coluna com a data da carga\n",
        "tbLogPIBsetor['dtCarga'] = dtCarga\n"
      ],
      "metadata": {
        "id": "Gv19PtVZ_iYX"
      },
      "execution_count": 44,
      "outputs": []
    },
    {
      "cell_type": "markdown",
      "source": [
        "# CARGA DOS DADOS DOS IMPOSTOS SOBRE O  PIB DOS SETORES DO ESTADO DE MATO GROSSO"
      ],
      "metadata": {
        "id": "2Za5lF7eCL3V"
      }
    },
    {
      "cell_type": "code",
      "source": [
        "#Criar Data Frame com os dados dos PIB - MT\n",
        "tbLogPIBmt = pd.DataFrame(pd.read_csv(LocalArquivo + \"PIB-MT.csv\"))"
      ],
      "metadata": {
        "id": "QkmR99A0D4Pr"
      },
      "execution_count": 47,
      "outputs": []
    },
    {
      "cell_type": "code",
      "source": [
        "#Criando coluna com a data da carga\n",
        "tbLogPIBmt['dtCarga'] = dtCarga\n"
      ],
      "metadata": {
        "id": "MUjQXk2NEX_f"
      },
      "execution_count": 50,
      "outputs": []
    }
  ]
}